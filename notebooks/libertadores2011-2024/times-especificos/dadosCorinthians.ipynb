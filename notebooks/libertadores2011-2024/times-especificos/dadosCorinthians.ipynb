{
 "cells": [
  {
   "cell_type": "markdown",
   "id": "5531dd66",
   "metadata": {},
   "source": [
    "# Dados sobre o clube Corinthians Paulista"
   ]
  },
  {
   "cell_type": "code",
   "execution_count": 1,
   "id": "85a90924",
   "metadata": {},
   "outputs": [],
   "source": [
    "import pandas as pd\n",
    "df = pd.read_csv('../../../data/libertadores-results-ds.csv')"
   ]
  },
  {
   "cell_type": "code",
   "execution_count": 2,
   "id": "22384095",
   "metadata": {},
   "outputs": [],
   "source": [
    "time = 'Corinthians'"
   ]
  },
  {
   "cell_type": "markdown",
   "id": "f7b0b0e2",
   "metadata": {},
   "source": [
    "## Quantidade de jogos"
   ]
  },
  {
   "cell_type": "code",
   "execution_count": 3,
   "id": "839d209c",
   "metadata": {},
   "outputs": [
    {
     "name": "stdout",
     "output_type": "stream",
     "text": [
      "Quantidade de jogos: 71\n"
     ]
    }
   ],
   "source": [
    "jogoCasa = (df['Home Club'] == time).sum()\n",
    "jogosFora = (df['Away Club'] == time).sum()\n",
    "\n",
    "qtdJogos = jogoCasa + jogosFora\n",
    "print(\"Quantidade de jogos:\", qtdJogos)"
   ]
  },
  {
   "cell_type": "markdown",
   "id": "d5e34344",
   "metadata": {},
   "source": [
    "## Quantidade de vitórias e derrotas"
   ]
  },
  {
   "cell_type": "code",
   "execution_count": 4,
   "id": "3848389c",
   "metadata": {},
   "outputs": [
    {
     "name": "stdout",
     "output_type": "stream",
     "text": [
      "Quantidade de vitórias: 30\n",
      "Quantidade de derrotas: 19\n",
      "Quantidade de empates: 22\n"
     ]
    }
   ],
   "source": [
    "jogos_casa = df[df['Home Club'] == time] # criando um DF só para os jogos em casa\n",
    "jogos_fora = df[df['Away Club'] == time] # criando um DF só para os jogos fora de casa\n",
    "\n",
    "vitoriasCasa = (jogos_casa['Home Score'] > jogos_casa['AwayScore']).sum()\n",
    "vitoriasFora = (jogos_fora['AwayScore'] > jogos_fora['Home Score']).sum()\n",
    "totalVitorias = vitoriasCasa + vitoriasFora\n",
    "\n",
    "derrotasCasa = (jogos_casa['Home Score'] < jogos_casa['AwayScore']).sum()\n",
    "derrotasFora = (jogos_fora['AwayScore'] < jogos_fora['Home Score']).sum()\n",
    "totalDerrotas = derrotasCasa + derrotasFora\n",
    "\n",
    "empatesCasa = (jogos_casa['Home Score'] == jogos_casa['AwayScore']).sum()\n",
    "empatesFora = (jogos_fora['AwayScore'] == jogos_fora['Home Score']).sum()\n",
    "totalEmpates = empatesCasa + empatesFora\n",
    "\n",
    "print(\"Quantidade de vitórias:\", totalVitorias)\n",
    "print(\"Quantidade de derrotas:\", totalDerrotas)\n",
    "print(\"Quantidade de empates:\", totalEmpates)\n"
   ]
  },
  {
   "cell_type": "markdown",
   "id": "3c3b92b5",
   "metadata": {},
   "source": [
    "## Gols feitos e Gols sofridos"
   ]
  },
  {
   "cell_type": "code",
   "execution_count": 5,
   "id": "d0370db3",
   "metadata": {},
   "outputs": [
    {
     "name": "stdout",
     "output_type": "stream",
     "text": [
      "Quantidade de gols feitos: 91\n",
      "Quantidade de gols sofridos: 49\n"
     ]
    }
   ],
   "source": [
    "golsFeitosCasa = jogos_casa['Home Score'].sum()\n",
    "golsFeitosFora = jogos_fora['AwayScore'].sum()\n",
    "totalGolsFeitos = golsFeitosCasa + golsFeitosFora\n",
    "\n",
    "golsSofridosCasa = jogos_casa['AwayScore'].sum()\n",
    "golsSofridosFora = jogos_fora['Home Score'].sum()\n",
    "totalGolsSofridos = golsSofridosCasa + golsSofridosFora\n",
    "\n",
    "print(\"Quantidade de gols feitos:\", totalGolsFeitos)\n",
    "print(\"Quantidade de gols sofridos:\", totalGolsSofridos)"
   ]
  }
 ],
 "metadata": {
  "kernelspec": {
   "display_name": "Python 3",
   "language": "python",
   "name": "python3"
  },
  "language_info": {
   "codemirror_mode": {
    "name": "ipython",
    "version": 3
   },
   "file_extension": ".py",
   "mimetype": "text/x-python",
   "name": "python",
   "nbconvert_exporter": "python",
   "pygments_lexer": "ipython3",
   "version": "3.13.5"
  }
 },
 "nbformat": 4,
 "nbformat_minor": 5
}
