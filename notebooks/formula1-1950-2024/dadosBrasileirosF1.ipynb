{
 "cells": [
  {
   "cell_type": "markdown",
   "id": "ad03f1af",
   "metadata": {},
   "source": [
    "# Dados dos Pilotos da Fórmula 1 de 1950 à 2024"
   ]
  },
  {
   "cell_type": "code",
   "execution_count": 1,
   "id": "c596ebed",
   "metadata": {},
   "outputs": [],
   "source": [
    "import pandas as pd\n"
   ]
  },
  {
   "cell_type": "code",
   "execution_count": 8,
   "id": "1ad6153d",
   "metadata": {},
   "outputs": [],
   "source": [
    "# Conectando com todos os CSV\n",
    "dfCircuitos = pd.read_csv(\"../../data/raw/DataBaseF1/circuits.csv\")\n",
    "dfConstrutoresResultado = pd.read_csv(\"../../data/raw/DataBaseF1/constructor_results.csv\")\n",
    "dfConstrutoresClassificacao = pd.read_csv(\"../../data/raw/DataBaseF1/constructor_standings.csv\")\n",
    "dfConstrutores = pd.read_csv(\"../../data/raw/DataBaseF1/constructors.csv\")\n",
    "dfPilotosClassificacao = pd.read_csv(\"../../data/raw/DataBaseF1/driver_standings.csv\")\n",
    "dfPilotos = pd.read_csv(\"../../data/raw/DataBaseF1/drivers.csv\")\n",
    "dfVoltas = pd.read_csv(\"../../data/raw/DataBaseF1/lap_times.csv\")\n",
    "dfPitStops = pd.read_csv(\"../../data/raw/DataBaseF1/pit_stops.csv\")\n",
    "dfQualificacao = pd.read_csv(\"../../data/raw/DataBaseF1/qualifying.csv\")\n",
    "dfCorridas = pd.read_csv(\"../../data/raw/DataBaseF1/races.csv\")\n",
    "dfResultadosCorrida = pd.read_csv(\"../../data/raw/DataBaseF1/results.csv\")\n",
    "dfTemporadas = pd.read_csv(\"../../data/raw/DataBaseF1/seasons.csv\")\n",
    "dfSprints = pd.read_csv(\"../../data/raw/DataBaseF1/sprint_results.csv\")\n",
    "dfStatus = pd.read_csv(\"../../data/raw/DataBaseF1/status.csv\")\n"
   ]
  },
  {
   "cell_type": "markdown",
   "id": "b6e7da3a",
   "metadata": {},
   "source": [
    "# Todos os Pilotos Brasileiros da Base de Dados"
   ]
  },
  {
   "cell_type": "code",
   "execution_count": null,
   "id": "52abf0da",
   "metadata": {},
   "outputs": [],
   "source": [
    "dfPilotosBrasileiros = dfPilotos[dfPilotos['nationality'] == 'Brazil']\n",
    "\n",
    "dfPilotosBrasileiros"
   ]
  }
 ],
 "metadata": {
  "kernelspec": {
   "display_name": "Python 3",
   "language": "python",
   "name": "python3"
  },
  "language_info": {
   "codemirror_mode": {
    "name": "ipython",
    "version": 3
   },
   "file_extension": ".py",
   "mimetype": "text/x-python",
   "name": "python",
   "nbconvert_exporter": "python",
   "pygments_lexer": "ipython3",
   "version": "3.13.0"
  }
 },
 "nbformat": 4,
 "nbformat_minor": 5
}
