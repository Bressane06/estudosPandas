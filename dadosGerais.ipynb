{
 "cells": [
  {
   "cell_type": "markdown",
   "id": "67357140",
   "metadata": {},
   "source": [
    "# Dados sobre os clubes nesse período da Libertadores."
   ]
  },
  {
   "cell_type": "code",
   "execution_count": 5,
   "id": "37a72265",
   "metadata": {},
   "outputs": [],
   "source": [
    "import pandas as pd\n"
   ]
  },
  {
   "cell_type": "code",
   "execution_count": 6,
   "id": "1b5786d9",
   "metadata": {},
   "outputs": [
    {
     "data": {
      "text/html": [
       "<div>\n",
       "<style scoped>\n",
       "    .dataframe tbody tr th:only-of-type {\n",
       "        vertical-align: middle;\n",
       "    }\n",
       "\n",
       "    .dataframe tbody tr th {\n",
       "        vertical-align: top;\n",
       "    }\n",
       "\n",
       "    .dataframe thead th {\n",
       "        text-align: right;\n",
       "    }\n",
       "</style>\n",
       "<table border=\"1\" class=\"dataframe\">\n",
       "  <thead>\n",
       "    <tr style=\"text-align: right;\">\n",
       "      <th></th>\n",
       "      <th>Edition</th>\n",
       "      <th>Round</th>\n",
       "      <th>Date</th>\n",
       "      <th>Home Club</th>\n",
       "      <th>Away Club</th>\n",
       "      <th>Home Score</th>\n",
       "      <th>AwayScore</th>\n",
       "    </tr>\n",
       "  </thead>\n",
       "  <tbody>\n",
       "    <tr>\n",
       "      <th>0</th>\n",
       "      <td>2023</td>\n",
       "      <td>Final</td>\n",
       "      <td>4/11/2023</td>\n",
       "      <td>Fluminense FC</td>\n",
       "      <td>Boca Juniors</td>\n",
       "      <td>2</td>\n",
       "      <td>1</td>\n",
       "    </tr>\n",
       "    <tr>\n",
       "      <th>1</th>\n",
       "      <td>2023</td>\n",
       "      <td>Semifinal</td>\n",
       "      <td>6/10/2023</td>\n",
       "      <td>Palmeiras</td>\n",
       "      <td>Boca Juniors</td>\n",
       "      <td>1</td>\n",
       "      <td>1</td>\n",
       "    </tr>\n",
       "    <tr>\n",
       "      <th>2</th>\n",
       "      <td>2023</td>\n",
       "      <td>Semifinal</td>\n",
       "      <td>5/10/2023</td>\n",
       "      <td>Internacional</td>\n",
       "      <td>Fluminense FC</td>\n",
       "      <td>1</td>\n",
       "      <td>2</td>\n",
       "    </tr>\n",
       "    <tr>\n",
       "      <th>3</th>\n",
       "      <td>2023</td>\n",
       "      <td>Semifinal</td>\n",
       "      <td>29/09/2023</td>\n",
       "      <td>Boca Juniors</td>\n",
       "      <td>Palmeiras</td>\n",
       "      <td>0</td>\n",
       "      <td>0</td>\n",
       "    </tr>\n",
       "    <tr>\n",
       "      <th>4</th>\n",
       "      <td>2023</td>\n",
       "      <td>Semifinal</td>\n",
       "      <td>28/09/2023</td>\n",
       "      <td>Fluminense FC</td>\n",
       "      <td>Internacional</td>\n",
       "      <td>2</td>\n",
       "      <td>2</td>\n",
       "    </tr>\n",
       "  </tbody>\n",
       "</table>\n",
       "</div>"
      ],
      "text/plain": [
       "   Edition      Round        Date      Home Club      Away Club  Home Score  \\\n",
       "0     2023      Final   4/11/2023  Fluminense FC   Boca Juniors           2   \n",
       "1     2023  Semifinal   6/10/2023      Palmeiras   Boca Juniors           1   \n",
       "2     2023  Semifinal   5/10/2023  Internacional  Fluminense FC           1   \n",
       "3     2023  Semifinal  29/09/2023   Boca Juniors      Palmeiras           0   \n",
       "4     2023  Semifinal  28/09/2023  Fluminense FC  Internacional           2   \n",
       "\n",
       "   AwayScore  \n",
       "0          1  \n",
       "1          1  \n",
       "2          2  \n",
       "3          0  \n",
       "4          2  "
      ]
     },
     "execution_count": 6,
     "metadata": {},
     "output_type": "execute_result"
    }
   ],
   "source": [
    "df = pd.read_csv(\"libertadores-results-ds.csv\")\n",
    "df.head()"
   ]
  },
  {
   "cell_type": "markdown",
   "id": "6d0f3a89",
   "metadata": {},
   "source": [
    "# Vendo a quantidade total de jogos do dataset"
   ]
  },
  {
   "cell_type": "code",
   "execution_count": 7,
   "id": "05b251ef",
   "metadata": {},
   "outputs": [
    {
     "data": {
      "text/plain": [
       "1954"
      ]
     },
     "execution_count": 7,
     "metadata": {},
     "output_type": "execute_result"
    }
   ],
   "source": [
    "len(df)"
   ]
  },
  {
   "cell_type": "markdown",
   "id": "e246d80a",
   "metadata": {},
   "source": [
    "# Vendo a quantidade diferente de times no data set"
   ]
  },
  {
   "cell_type": "code",
   "execution_count": 8,
   "id": "4bfcbee5",
   "metadata": {},
   "outputs": [
    {
     "data": {
      "text/plain": [
       "132"
      ]
     },
     "execution_count": 8,
     "metadata": {},
     "output_type": "execute_result"
    }
   ],
   "source": [
    "# Contagem de times diferentes no dataset\n",
    "# Um time joga no MINIMO 1 jogo em casa, por isso pode usar essa coluna\n",
    "df['Home Club'].nunique()\n"
   ]
  },
  {
   "cell_type": "markdown",
   "id": "73e301a4",
   "metadata": {},
   "source": [
    "# Vendo times com mais jogos"
   ]
  },
  {
   "cell_type": "code",
   "execution_count": 9,
   "id": "706e3d10",
   "metadata": {},
   "outputs": [
    {
     "data": {
      "text/plain": [
       "Home Club\n",
       "River Plate            62\n",
       "Boca Juniors           57\n",
       "Nacional               54\n",
       "Palmeiras              54\n",
       "Atlético Mineiro       54\n",
       "                       ..\n",
       "Deportivo Petare        1\n",
       "Everton CD              1\n",
       "Deportivo Capiatá       1\n",
       "Club Puebla             1\n",
       "Sportivo Trinidense     1\n",
       "Name: count, Length: 132, dtype: int64"
      ]
     },
     "execution_count": 9,
     "metadata": {},
     "output_type": "execute_result"
    }
   ],
   "source": [
    "df['Home Club'].value_counts()"
   ]
  },
  {
   "cell_type": "markdown",
   "id": "b305ce7e",
   "metadata": {},
   "source": [
    "# Colunas"
   ]
  },
  {
   "cell_type": "code",
   "execution_count": 11,
   "id": "4fd391e2",
   "metadata": {},
   "outputs": [
    {
     "data": {
      "text/plain": [
       "Index(['Edition', 'Round', 'Date', 'Home Club', 'Away Club', 'Home Score',\n",
       "       'AwayScore'],\n",
       "      dtype='object')"
      ]
     },
     "execution_count": 11,
     "metadata": {},
     "output_type": "execute_result"
    }
   ],
   "source": [
    "df.columns"
   ]
  },
  {
   "cell_type": "code",
   "execution_count": null,
   "id": "00c4abca",
   "metadata": {},
   "outputs": [],
   "source": []
  }
 ],
 "metadata": {
  "kernelspec": {
   "display_name": "Python 3",
   "language": "python",
   "name": "python3"
  },
  "language_info": {
   "codemirror_mode": {
    "name": "ipython",
    "version": 3
   },
   "file_extension": ".py",
   "mimetype": "text/x-python",
   "name": "python",
   "nbconvert_exporter": "python",
   "pygments_lexer": "ipython3",
   "version": "3.13.5"
  }
 },
 "nbformat": 4,
 "nbformat_minor": 5
}
